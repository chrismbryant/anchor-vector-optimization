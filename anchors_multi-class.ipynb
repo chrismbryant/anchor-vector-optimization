{
 "cells": [
  {
   "cell_type": "markdown",
   "metadata": {},
   "source": [
    "# Anchor-based multi-class classification\n",
    "\n",
    "* p anchors per class\n",
    "* k classes\n",
    "* n features\n",
    "* m examples"
   ]
  },
  {
   "cell_type": "code",
   "execution_count": null,
   "metadata": {
    "collapsed": false
   },
   "outputs": [],
   "source": [
    "import numpy as np\n",
    "import tensorflow as tf\n",
    "import matplotlib.pyplot as plt\n",
    "from tqdm import tqdm\n",
    "from time import time"
   ]
  },
  {
   "cell_type": "code",
   "execution_count": 154,
   "metadata": {
    "collapsed": false,
    "scrolled": true
   },
   "outputs": [
    {
     "data": {
      "text/plain": [
       "array([[[ True,  True,  True, ...,  True,  True,  True],\n",
       "        [ True,  True,  True, ...,  True,  True,  True],\n",
       "        [ True,  True,  True, ...,  True,  True,  True],\n",
       "        [ True,  True,  True, ...,  True,  True,  True],\n",
       "        [ True,  True,  True, ...,  True,  True,  True]],\n",
       "\n",
       "       [[ True,  True,  True, ...,  True,  True,  True],\n",
       "        [ True,  True,  True, ...,  True,  True,  True],\n",
       "        [ True,  True,  True, ...,  True,  True,  True],\n",
       "        [ True,  True,  True, ...,  True,  True,  True],\n",
       "        [ True,  True,  True, ...,  True,  True,  True]],\n",
       "\n",
       "       [[ True,  True,  True, ...,  True,  True,  True],\n",
       "        [ True,  True,  True, ...,  True,  True,  True],\n",
       "        [ True,  True,  True, ...,  True,  True,  True],\n",
       "        [ True,  True,  True, ...,  True,  True,  True],\n",
       "        [ True,  True,  True, ...,  True,  True,  True]],\n",
       "\n",
       "       ...,\n",
       "\n",
       "       [[ True,  True,  True, ...,  True,  True,  True],\n",
       "        [ True,  True,  True, ...,  True,  True,  True],\n",
       "        [ True,  True,  True, ...,  True,  True,  True],\n",
       "        [ True,  True,  True, ...,  True,  True,  True],\n",
       "        [ True,  True,  True, ...,  True,  True,  True]],\n",
       "\n",
       "       [[ True,  True,  True, ...,  True,  True,  True],\n",
       "        [ True,  True,  True, ...,  True,  True,  True],\n",
       "        [ True,  True,  True, ...,  True,  True,  True],\n",
       "        [ True,  True,  True, ...,  True,  True,  True],\n",
       "        [ True,  True,  True, ...,  True,  True,  True]],\n",
       "\n",
       "       [[ True,  True,  True, ...,  True,  True,  True],\n",
       "        [ True,  True,  True, ...,  True,  True,  True],\n",
       "        [ True,  True,  True, ...,  True,  True,  True],\n",
       "        [ True,  True,  True, ...,  True,  True,  True],\n",
       "        [ True,  True,  True, ...,  True,  True,  True]]])"
      ]
     },
     "execution_count": 154,
     "metadata": {},
     "output_type": "execute_result"
    }
   ],
   "source": [
    "k = 10\n",
    "p = 5\n",
    "n = 300\n",
    "m = 1000\n",
    "\n",
    "def make_2D(A):\n",
    "    i, j, k = A.shape\n",
    "    return np.reshape(A, (i * j, k))\n",
    "\n",
    "A = np.random.randn(k, p, n)\n",
    "X = np.random.randn(n, m)\n",
    "\n",
    "A_norm_0 = np.reshape(np.linalg.norm(A, axis = 2), (k, p, 1))\n",
    "A_norm_1 = np.reshape(np.linalg.norm(A, axis = 2), (k * p, 1))\n",
    "\n",
    "X_norm_0 = np.reshape(np.linalg.norm(X, axis = 0), (1, m))\n",
    "\n",
    "norm_0 = np.dot(A_norm_0, X_norm_0)\n",
    "norm_1 = np.reshape(np.dot(A_norm_1, X_norm_0), (k, p, m))\n",
    "\n",
    "A_1 = np.reshape(A, (k * p, n))\n",
    "\n",
    "prod_0 = np.round(np.dot(A, X), 2)\n",
    "prod_1 = np.round(np.dot(A_1, X), 2)\n",
    "prod_0 == np.reshape(prod_1, (k, p, m))"
   ]
  },
  {
   "cell_type": "code",
   "execution_count": 153,
   "metadata": {
    "collapsed": false
   },
   "outputs": [
    {
     "data": {
      "text/plain": [
       "array([[[ True,  True,  True,  True,  True],\n",
       "        [ True,  True,  True,  True,  True],\n",
       "        [ True,  True,  True,  True,  True]],\n",
       "\n",
       "       [[ True,  True,  True,  True,  True],\n",
       "        [ True,  True,  True,  True,  True],\n",
       "        [ True,  True,  True,  True,  True]]])"
      ]
     },
     "execution_count": 153,
     "metadata": {},
     "output_type": "execute_result"
    }
   ],
   "source": [
    "A = np.random.randn(2, 3, 4)\n",
    "X = np.random.randn(4, 5)\n",
    "\n",
    "np.round(np.dot(A, X), 2) == np.round(np.reshape(np.dot(make_2D(A), X), (2, 3, 5)), 2)"
   ]
  },
  {
   "cell_type": "code",
   "execution_count": 159,
   "metadata": {
    "collapsed": false
   },
   "outputs": [
    {
     "data": {
      "text/plain": [
       "array([[[ True,  True,  True, ...,  True,  True,  True],\n",
       "        [ True,  True,  True, ...,  True,  True,  True],\n",
       "        [ True,  True,  True, ...,  True,  True,  True],\n",
       "        [ True,  True,  True, ...,  True,  True,  True],\n",
       "        [ True,  True,  True, ...,  True,  True,  True]],\n",
       "\n",
       "       [[ True,  True,  True, ...,  True,  True,  True],\n",
       "        [ True,  True,  True, ...,  True,  True,  True],\n",
       "        [ True,  True,  True, ...,  True,  True,  True],\n",
       "        [ True,  True,  True, ...,  True,  True,  True],\n",
       "        [ True,  True,  True, ...,  True,  True,  True]],\n",
       "\n",
       "       [[ True,  True,  True, ...,  True,  True,  True],\n",
       "        [ True,  True,  True, ...,  True,  True,  True],\n",
       "        [ True,  True,  True, ...,  True,  True,  True],\n",
       "        [ True,  True,  True, ...,  True,  True,  True],\n",
       "        [ True,  True,  True, ...,  True,  True,  True]],\n",
       "\n",
       "       ...,\n",
       "\n",
       "       [[ True,  True,  True, ...,  True,  True,  True],\n",
       "        [ True,  True,  True, ...,  True,  True,  True],\n",
       "        [ True,  True,  True, ...,  True,  True,  True],\n",
       "        [ True,  True,  True, ...,  True,  True,  True],\n",
       "        [ True,  True,  True, ...,  True,  True,  True]],\n",
       "\n",
       "       [[ True,  True,  True, ...,  True,  True,  True],\n",
       "        [ True,  True,  True, ...,  True,  True,  True],\n",
       "        [ True,  True,  True, ...,  True,  True,  True],\n",
       "        [ True,  True,  True, ...,  True,  True,  True],\n",
       "        [ True,  True,  True, ...,  True,  True,  True]],\n",
       "\n",
       "       [[ True,  True,  True, ...,  True,  True,  True],\n",
       "        [ True,  True,  True, ...,  True,  True,  True],\n",
       "        [ True,  True,  True, ...,  True,  True,  True],\n",
       "        [ True,  True,  True, ...,  True,  True,  True],\n",
       "        [ True,  True,  True, ...,  True,  True,  True]]])"
      ]
     },
     "execution_count": 159,
     "metadata": {},
     "output_type": "execute_result"
    }
   ],
   "source": [
    "A = np.random.randn(k, p, n)\n",
    "X = np.random.randn(n, m)\n",
    "\n",
    "with tf.Session() as sess:\n",
    "    AA = tf.constant(A)\n",
    "    XX = tf.constant(X)\n",
    "    result = sess.run(tf.tensordot(A, X, [[2], [0]]))\n",
    "    \n",
    "np.round(np.dot(A, X), 2) == np.round(result, 2)"
   ]
  },
  {
   "cell_type": "markdown",
   "metadata": {},
   "source": [
    "# Get MNIST Data"
   ]
  },
  {
   "cell_type": "code",
   "execution_count": null,
   "metadata": {
    "collapsed": false
   },
   "outputs": [],
   "source": [
    "import mnist\n",
    "\n",
    "data_train = mnist.train_images()\n",
    "data_test = mnist.test_images()\n",
    "\n",
    "labels_train = mnist.train_labels()\n",
    "labels_test= mnist.test_labels()"
   ]
  },
  {
   "cell_type": "markdown",
   "metadata": {},
   "source": [
    "## Prepare data"
   ]
  },
  {
   "cell_type": "code",
   "execution_count": null,
   "metadata": {
    "collapsed": false
   },
   "outputs": [],
   "source": [
    "p = 5  # Number of anchor vectors per class\n",
    "k = 10 # Number of classes\n",
    "\n",
    "# X_train.shape = (784, 60000)\n",
    "# X_test.shape  = (784, 10000)\n",
    "# Y_train.shape = (10, 60000)\n",
    "# Y_test.shape  = (10, 10000)\n",
    "\n",
    "m_train, n, _ = data_train.shape\n",
    "m_test, _, _ = data_test.shape \n",
    "\n",
    "np.random.seed(0)\n",
    "\n",
    "ix_train = [i for i in range(m_train)]\n",
    "ix_test = [i for i in range(m_test)]\n",
    "np.random.shuffle(ix_train)\n",
    "np.random.shuffle(ix_test)\n",
    "\n",
    "X_train = data_train.reshape(m_train, n**2).T[:, ix_train]\n",
    "X_test = data_test.reshape(m_test, n**2).T[:, ix_test]\n",
    "\n",
    "Y_train = np.eye(k)[labels_train].T\n",
    "Y_test = np.eye(k)[labels_test].T\n",
    "\n",
    "examples = {\n",
    "    0: 1,\n",
    "    1: 3,\n",
    "    2: 5,\n",
    "    3: 7,\n",
    "    4: 2,\n",
    "    5: 0,\n",
    "    6: 13,\n",
    "    7: 15,\n",
    "    8: 17,\n",
    "    9: 4\n",
    "}\n",
    "\n",
    "A_initial = np.array([[X_train[:, examples[i]]] for i in range(10)])\n",
    "A_initial.shape"
   ]
  },
  {
   "cell_type": "code",
   "execution_count": 215,
   "metadata": {
    "collapsed": true
   },
   "outputs": [],
   "source": [
    "def random_mini_batches(X_train, Y_train, minibatch_size, seed):\n",
    "    \n",
    "    np.random.seed(seed)\n",
    "    (n, m) = X_train.shape\n",
    "    indices = np.array([i for i in range(n)])\n",
    "    np.random.shuffle(indices)\n",
    "    \n",
    "    minibatches = []\n",
    "    i = 0\n",
    "    \n",
    "    while i < m:\n",
    "        \n",
    "        minibatches.append((X_train[:, i:i+minibatch_size], Y_train[:, i:i+minibatch_size]))\n",
    "        i += minibatch_size\n",
    "    \n",
    "    return minibatches\n",
    "\n",
    "def create_placeholders(n, k):\n",
    "    \n",
    "    X = tf.placeholder(tf.float32, shape = [n, None], name = \"X\")\n",
    "    Y = tf.placeholder(tf.float32, shape = [k, None], name = \"Y\")\n",
    "    \n",
    "    return X, Y\n",
    "\n",
    "def initialize_params(k, p, n, A_init=None, learn_A=True):\n",
    "    \n",
    "    # k classes\n",
    "    # p anchors\n",
    "    # n features\n",
    "    \n",
    "    if type(A_init) == np.ndarray:\n",
    "        A = tf.get_variable(\"A\", \n",
    "                            [k, p, n], \n",
    "                            dtype = tf.float32, \n",
    "                            initializer = tf.contrib.layers.xavier_initializer(seed = 1))\n",
    "    else:\n",
    "        if learn_A:\n",
    "            A = tf.get_variable(\"A\", \n",
    "                                [k, p, n], \n",
    "                                dtype = tf.float32, \n",
    "                                initializer = tf.constant(A))\n",
    "        else:\n",
    "            A = tf.constant(A_init)\n",
    "        \n",
    "    w = tf.get_variable(\"w\", [k, 1], dtype = tf.float32, initializer = tf.zeros_initializer())\n",
    "    b = tf.get_variable(\"b\", [k, 1], dtype = tf.float32, initializer = tf.zeros_initializer())\n",
    "    \n",
    "    params = {\n",
    "        \"A\": A,\n",
    "        \"w\": w,\n",
    "        \"b\": b\n",
    "    }\n",
    "                        \n",
    "    return params\n",
    "\n",
    "def forward_propagate(X, params):\n",
    "\n",
    "    # A.shape = (k, p, n)\n",
    "    # X.shape = (n, m)\n",
    "    # w.shape = (k, 1)\n",
    "    # b.shape = (k, 1)\n",
    "    \n",
    "    A = params[\"A\"]\n",
    "    w = params[\"w\"]\n",
    "    b = params[\"b\"]\n",
    "    \n",
    "    k = tf.shape(A)[0]\n",
    "    p = tf.shape(A)[1]\n",
    "    m = tf.shape(X)[1]\n",
    "    \n",
    "    norm_A = tf.reshape(tf.norm(A, axis = 2), (k, p, 1))\n",
    "    norm_X = tf.reshape(tf.norm(X, axis = 0), (1, m))\n",
    "    norm = tf.tensordot(norm_A, norm_X, [[2], [0]])\n",
    "    \n",
    "    prod = tf.tensordot(A, X, [[2], [0]])\n",
    "    \n",
    "    sim = tf.divide(prod, norm) # shape = (k, p, m)\n",
    "    dist = 1 - sim\n",
    "    \n",
    "    D = tf.reshape(tf.reduce_prod(dist, axis = 1), (k, m)) # shape = (k, m)\n",
    "    H = tf.nn.softmax(w * D + b) # shape = (k, m)\n",
    "    \n",
    "    return H\n",
    "\n",
    "def get_cost(Y, H, epsilon = 0.0001):\n",
    "    \n",
    "    # Y.shape = (k, m)\n",
    "    # H.shape = (k, m)\n",
    "    \n",
    "    m = tf.cast(tf.shape(Y)[1], \"float32\")\n",
    "    L = - tf.reduce_sum(Y * tf.log(tf.maximum(H, epsilon)), axis = 0)\n",
    "    cost = 1/m * tf.reduce_sum(L)\n",
    "    \n",
    "    return cost\n",
    "\n",
    "def get_A_reg(A, q=0, epsilon = 0.0001):\n",
    "    \n",
    "    # A.shape = (k, p, n)\n",
    "    \n",
    "    if q == 0:\n",
    "        return 0\n",
    "    \n",
    "    (k, p, n) = tf.shape(A)\n",
    "    \n",
    "    norm_A = tf.reshape(tf.norm(A, axis = 2), (k, p, 1))\n",
    "    norm_A_T = tf.transpose(norm_A, perm = [0, 2, 1]) # shape = (k, 1, p)\n",
    "    norm = tf.tensordot(norm_A, norm_A_T, [[1, 2], [2, 1]]) # shape = (k, p, p)\n",
    "    \n",
    "    prod = tf.tensordot(A, tf.transpose(A, perm = [0, 2, 1]), [[1, 2], [2, 1]])\n",
    "    \n",
    "    sim = tf.divide(prod, norm)\n",
    "    dist = tf.maximum(1 - sim, epsilon)\n",
    "    \n",
    "    energy = 1/2 * tf.reduce_sum(q**2 / dist)\n",
    "    \n",
    "    return energy\n",
    "\n",
    "# ##### -------------------------------------------------------- #####\n",
    "\n",
    "def model(X_train, \n",
    "          Y_train, \n",
    "          X_test, \n",
    "          Y_test, \n",
    "          A_init = None,\n",
    "          learn_A = True,\n",
    "          p = 4,\n",
    "          q = 0,\n",
    "          learning_rate = 0.0001,\n",
    "          num_epochs = 1500, \n",
    "          minibatch_size = 32, \n",
    "          print_cost = True):\n",
    "    \n",
    "    # X_train.shape = (n, m)\n",
    "    # Y_train.shape = (p, m)\n",
    "    \n",
    "    tf.reset_default_graph()\n",
    "    \n",
    "    tf.set_random_seed(1)\n",
    "    seed = 2\n",
    "    \n",
    "    (n, m) = X_train.shape\n",
    "    k = Y_train.shape[0]\n",
    "    J_train = []\n",
    "    J_valid = []\n",
    "    \n",
    "    X, Y = create_placeholders(n, k)\n",
    "    params = initialize_params(k, p, n, A_init, learn_A)\n",
    "    H = forward_propagate(X, params)\n",
    "    \n",
    "    if learn_A:\n",
    "        J = get_cost(Y, H) + get_A_reg(params[\"A\"], q = q)\n",
    "    else:\n",
    "        J = get_cost(Y, H)\n",
    "    \n",
    "    optimizer = tf.train.AdamOptimizer(learning_rate = learning_rate).minimize(J)\n",
    "\n",
    "    init = tf.global_variables_initializer()\n",
    "    \n",
    "    with tf.Session() as sess:\n",
    "        \n",
    "        sess.run(init)\n",
    "        \n",
    "        tic = time()\n",
    "        \n",
    "        for epoch in range(num_epochs):\n",
    "\n",
    "            epoch_cost = 0\n",
    "            num_minibatches = int(m / minibatch_size)\n",
    "            seed += 1\n",
    "            minibatches = random_mini_batches(X_train, Y_train, minibatch_size, seed)\n",
    "            \n",
    "            for minibatch in minibatches:\n",
    "\n",
    "                (minibatch_X, minibatch_Y) = minibatch\n",
    "                _ , minibatch_cost = sess.run([optimizer, J], feed_dict={X: minibatch_X, Y: minibatch_Y})\n",
    "                epoch_cost += minibatch_cost / num_minibatches\n",
    "            \n",
    "            if print_cost == True and epoch % 50 == 0:\n",
    "                dt = time() - tic\n",
    "                print (\"Cost after epoch %i: %f (time elapsed = %f s)\" % (epoch, epoch_cost, dt))\n",
    "                \n",
    "            if epoch % 5 == 0:\n",
    "                J_train.append(epoch_cost)\n",
    "                J_valid.append(sess.run(J, feed_dict = {X: X_test, Y: Y_test}))\n",
    "        \n",
    "        font = {\"family\": \"Century Gothic\", \"weight\": \"normal\", \"size\" : 14}\n",
    "        plt.rc(\"font\", **font)\n",
    "        fig = plt.figure(figsize = (10, 7))\n",
    "        ax = fig.add_subplot(1, 1, 1)\n",
    "        ax.plot(np.squeeze(J_train), label = \"J_train\")\n",
    "        ax.plot(np.squeeze(J_valid), label = \"J_valid\")\n",
    "        ax.legend()\n",
    "        ax.set_xlim([0, len(J_train)])\n",
    "        ax.set_ylabel(\"Cost\", fontdict = {\"fontsize\": 16, \"weight\": \"bold\"})\n",
    "        ax.set_xlabel(\"Iteration/5\", fontdict = {\"fontsize\": 16, \"weight\": \"bold\"})\n",
    "        ax.set_title(\"%d Anchors: Charge = %g, Learning Rate = %g\" % (p, q, learning_rate),\n",
    "                     fontdict = {\"fontsize\": 24, \"weight\": \"bold\"})\n",
    "\n",
    "        params = sess.run(params)\n",
    "        H_train = sess.run(H, feed_dict = {X: X_train})\n",
    "        H_test = sess.run(H, feed_dict = {X: X_test})\n",
    "        \n",
    "        print(\"Training complete.\")\n",
    "        \n",
    "        return params, H_train, H_test, J_train, J_valid"
   ]
  },
  {
   "cell_type": "code",
   "execution_count": 217,
   "metadata": {
    "collapsed": false,
    "scrolled": false
   },
   "outputs": [
    {
     "name": "stdout",
     "output_type": "stream",
     "text": [
      "Cost after epoch 0: 3.465775 (time elapsed = 3.821029 s)\n",
      "Cost after epoch 50: 3.442385 (time elapsed = 206.980529 s)\n",
      "Training complete.\n"
     ]
    }
   ],
   "source": [
    "A_initial = np.array([[X_train[:, examples[i]]] for i in range(10)])\n",
    "\n",
    "params, H_train, H_test = model(X_train, \n",
    "                                Y_train, \n",
    "                                X_test, \n",
    "                                Y_test, \n",
    "                                A_init = A_initial,\n",
    "                                learn_A = False,\n",
    "                                p = 3,\n",
    "                                q = 0,\n",
    "                                learning_rate = 0.001,\n",
    "                                num_epochs = 100, \n",
    "                                minibatch_size = 32, \n",
    "                                print_cost = True)"
   ]
  },
  {
   "cell_type": "code",
   "execution_count": 232,
   "metadata": {
    "collapsed": false
   },
   "outputs": [
    {
     "data": {
      "text/plain": [
       "0.000164648540703638"
      ]
     },
     "execution_count": 232,
     "metadata": {},
     "output_type": "execute_result"
    }
   ],
   "source": [
    "sum(H_train[:, 0])"
   ]
  },
  {
   "cell_type": "code",
   "execution_count": 230,
   "metadata": {
    "collapsed": false
   },
   "outputs": [
    {
     "data": {
      "text/plain": [
       "(10, 60000)"
      ]
     },
     "execution_count": 230,
     "metadata": {},
     "output_type": "execute_result"
    }
   ],
   "source": []
  }
 ],
 "metadata": {
  "kernelspec": {
   "display_name": "Python 3",
   "language": "python",
   "name": "python3"
  }
 },
 "nbformat": 4,
 "nbformat_minor": 2
}
