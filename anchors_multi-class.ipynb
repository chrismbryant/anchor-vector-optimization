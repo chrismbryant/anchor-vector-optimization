{
 "cells": [
  {
   "cell_type": "markdown",
   "metadata": {},
   "source": [
    "# Anchor-based multi-class classification\n",
    "\n",
    "* p anchors per class\n",
    "* k classes\n",
    "* n features\n",
    "* m examples"
   ]
  },
  {
   "cell_type": "code",
   "execution_count": null,
   "metadata": {
    "collapsed": false
   },
   "outputs": [],
   "source": [
    "import numpy as np\n",
    "import tensorflow as tf\n",
    "import matplotlib.pyplot as plt\n",
    "from tqdm import tqdm\n",
    "from time import time"
   ]
  },
  {
   "cell_type": "code",
   "execution_count": 154,
   "metadata": {
    "collapsed": false,
    "scrolled": true
   },
   "outputs": [
    {
     "data": {
      "text/plain": [
       "array([[[ True,  True,  True, ...,  True,  True,  True],\n",
       "        [ True,  True,  True, ...,  True,  True,  True],\n",
       "        [ True,  True,  True, ...,  True,  True,  True],\n",
       "        [ True,  True,  True, ...,  True,  True,  True],\n",
       "        [ True,  True,  True, ...,  True,  True,  True]],\n",
       "\n",
       "       [[ True,  True,  True, ...,  True,  True,  True],\n",
       "        [ True,  True,  True, ...,  True,  True,  True],\n",
       "        [ True,  True,  True, ...,  True,  True,  True],\n",
       "        [ True,  True,  True, ...,  True,  True,  True],\n",
       "        [ True,  True,  True, ...,  True,  True,  True]],\n",
       "\n",
       "       [[ True,  True,  True, ...,  True,  True,  True],\n",
       "        [ True,  True,  True, ...,  True,  True,  True],\n",
       "        [ True,  True,  True, ...,  True,  True,  True],\n",
       "        [ True,  True,  True, ...,  True,  True,  True],\n",
       "        [ True,  True,  True, ...,  True,  True,  True]],\n",
       "\n",
       "       ...,\n",
       "\n",
       "       [[ True,  True,  True, ...,  True,  True,  True],\n",
       "        [ True,  True,  True, ...,  True,  True,  True],\n",
       "        [ True,  True,  True, ...,  True,  True,  True],\n",
       "        [ True,  True,  True, ...,  True,  True,  True],\n",
       "        [ True,  True,  True, ...,  True,  True,  True]],\n",
       "\n",
       "       [[ True,  True,  True, ...,  True,  True,  True],\n",
       "        [ True,  True,  True, ...,  True,  True,  True],\n",
       "        [ True,  True,  True, ...,  True,  True,  True],\n",
       "        [ True,  True,  True, ...,  True,  True,  True],\n",
       "        [ True,  True,  True, ...,  True,  True,  True]],\n",
       "\n",
       "       [[ True,  True,  True, ...,  True,  True,  True],\n",
       "        [ True,  True,  True, ...,  True,  True,  True],\n",
       "        [ True,  True,  True, ...,  True,  True,  True],\n",
       "        [ True,  True,  True, ...,  True,  True,  True],\n",
       "        [ True,  True,  True, ...,  True,  True,  True]]])"
      ]
     },
     "execution_count": 154,
     "metadata": {},
     "output_type": "execute_result"
    }
   ],
   "source": [
    "k = 10\n",
    "p = 5\n",
    "n = 300\n",
    "m = 1000\n",
    "\n",
    "def make_2D(A):\n",
    "    i, j, k = A.shape\n",
    "    return np.reshape(A, (i * j, k))\n",
    "\n",
    "A = np.random.randn(k, p, n)\n",
    "X = np.random.randn(n, m)\n",
    "\n",
    "A_norm_0 = np.reshape(np.linalg.norm(A, axis = 2), (k, p, 1))\n",
    "A_norm_1 = np.reshape(np.linalg.norm(A, axis = 2), (k * p, 1))\n",
    "\n",
    "X_norm_0 = np.reshape(np.linalg.norm(X, axis = 0), (1, m))\n",
    "\n",
    "norm_0 = np.dot(A_norm_0, X_norm_0)\n",
    "norm_1 = np.reshape(np.dot(A_norm_1, X_norm_0), (k, p, m))\n",
    "\n",
    "A_1 = np.reshape(A, (k * p, n))\n",
    "\n",
    "prod_0 = np.round(np.dot(A, X), 2)\n",
    "prod_1 = np.round(np.dot(A_1, X), 2)\n",
    "prod_0 == np.reshape(prod_1, (k, p, m))"
   ]
  },
  {
   "cell_type": "code",
   "execution_count": 153,
   "metadata": {
    "collapsed": false
   },
   "outputs": [
    {
     "data": {
      "text/plain": [
       "array([[[ True,  True,  True,  True,  True],\n",
       "        [ True,  True,  True,  True,  True],\n",
       "        [ True,  True,  True,  True,  True]],\n",
       "\n",
       "       [[ True,  True,  True,  True,  True],\n",
       "        [ True,  True,  True,  True,  True],\n",
       "        [ True,  True,  True,  True,  True]]])"
      ]
     },
     "execution_count": 153,
     "metadata": {},
     "output_type": "execute_result"
    }
   ],
   "source": [
    "A = np.random.randn(2, 3, 4)\n",
    "X = np.random.randn(4, 5)\n",
    "\n",
    "np.round(np.dot(A, X), 2) == np.round(np.reshape(np.dot(make_2D(A), X), (2, 3, 5)), 2)"
   ]
  },
  {
   "cell_type": "code",
   "execution_count": 159,
   "metadata": {
    "collapsed": false,
    "scrolled": true
   },
   "outputs": [
    {
     "data": {
      "text/plain": [
       "array([[[ True,  True,  True, ...,  True,  True,  True],\n",
       "        [ True,  True,  True, ...,  True,  True,  True],\n",
       "        [ True,  True,  True, ...,  True,  True,  True],\n",
       "        [ True,  True,  True, ...,  True,  True,  True],\n",
       "        [ True,  True,  True, ...,  True,  True,  True]],\n",
       "\n",
       "       [[ True,  True,  True, ...,  True,  True,  True],\n",
       "        [ True,  True,  True, ...,  True,  True,  True],\n",
       "        [ True,  True,  True, ...,  True,  True,  True],\n",
       "        [ True,  True,  True, ...,  True,  True,  True],\n",
       "        [ True,  True,  True, ...,  True,  True,  True]],\n",
       "\n",
       "       [[ True,  True,  True, ...,  True,  True,  True],\n",
       "        [ True,  True,  True, ...,  True,  True,  True],\n",
       "        [ True,  True,  True, ...,  True,  True,  True],\n",
       "        [ True,  True,  True, ...,  True,  True,  True],\n",
       "        [ True,  True,  True, ...,  True,  True,  True]],\n",
       "\n",
       "       ...,\n",
       "\n",
       "       [[ True,  True,  True, ...,  True,  True,  True],\n",
       "        [ True,  True,  True, ...,  True,  True,  True],\n",
       "        [ True,  True,  True, ...,  True,  True,  True],\n",
       "        [ True,  True,  True, ...,  True,  True,  True],\n",
       "        [ True,  True,  True, ...,  True,  True,  True]],\n",
       "\n",
       "       [[ True,  True,  True, ...,  True,  True,  True],\n",
       "        [ True,  True,  True, ...,  True,  True,  True],\n",
       "        [ True,  True,  True, ...,  True,  True,  True],\n",
       "        [ True,  True,  True, ...,  True,  True,  True],\n",
       "        [ True,  True,  True, ...,  True,  True,  True]],\n",
       "\n",
       "       [[ True,  True,  True, ...,  True,  True,  True],\n",
       "        [ True,  True,  True, ...,  True,  True,  True],\n",
       "        [ True,  True,  True, ...,  True,  True,  True],\n",
       "        [ True,  True,  True, ...,  True,  True,  True],\n",
       "        [ True,  True,  True, ...,  True,  True,  True]]])"
      ]
     },
     "execution_count": 159,
     "metadata": {},
     "output_type": "execute_result"
    }
   ],
   "source": [
    "A = np.random.randn(k, p, n)\n",
    "X = np.random.randn(n, m)\n",
    "\n",
    "with tf.Session() as sess:\n",
    "    AA = tf.constant(A)\n",
    "    XX = tf.constant(X)\n",
    "    result = sess.run(tf.tensordot(A, X, [[2], [0]]))\n",
    "    \n",
    "np.round(np.dot(A, X), 2) == np.round(result, 2)"
   ]
  },
  {
   "cell_type": "markdown",
   "metadata": {},
   "source": [
    "# Get MNIST Data"
   ]
  },
  {
   "cell_type": "code",
   "execution_count": null,
   "metadata": {
    "collapsed": false
   },
   "outputs": [],
   "source": [
    "import mnist\n",
    "\n",
    "data_train = mnist.train_images()\n",
    "data_test = mnist.test_images()\n",
    "\n",
    "labels_train = mnist.train_labels()\n",
    "labels_test= mnist.test_labels()"
   ]
  },
  {
   "cell_type": "markdown",
   "metadata": {},
   "source": [
    "## Prepare data"
   ]
  },
  {
   "cell_type": "code",
   "execution_count": 392,
   "metadata": {
    "collapsed": false
   },
   "outputs": [
    {
     "data": {
      "text/plain": [
       "(10, 1, 784)"
      ]
     },
     "execution_count": 392,
     "metadata": {},
     "output_type": "execute_result"
    }
   ],
   "source": [
    "p = 5  # Number of anchor vectors per class\n",
    "k = 10 # Number of classes\n",
    "\n",
    "# X_train.shape = (784, 60000)\n",
    "# X_test.shape  = (784, 10000)\n",
    "# Y_train.shape = (10, 60000)\n",
    "# Y_test.shape  = (10, 10000)\n",
    "\n",
    "m_train, n, _ = data_train.shape\n",
    "m_test, _, _ = data_test.shape \n",
    "\n",
    "normalize = lambda v: v/255 - 0.5\n",
    "\n",
    "X_train = normalize(data_train.reshape(m_train, n**2).T)\n",
    "X_test = normalize(data_test.reshape(m_test, n**2).T)\n",
    "\n",
    "Y_train = np.eye(k)[labels_train].T\n",
    "Y_test = np.eye(k)[labels_test].T\n",
    "\n",
    "examples = {\n",
    "    0: 1,\n",
    "    1: 3,\n",
    "    2: 5,\n",
    "    3: 7,\n",
    "    4: 2,\n",
    "    5: 0,\n",
    "    6: 13,\n",
    "    7: 15,\n",
    "    8: 17,\n",
    "    9: 4\n",
    "}\n",
    "\n",
    "A_initial = np.array([[X_train[:, examples[i]]] for i in range(10)])\n",
    "A_initial.shape"
   ]
  },
  {
   "cell_type": "code",
   "execution_count": null,
   "metadata": {
    "collapsed": true
   },
   "outputs": [],
   "source": [
    "def cos_dist(A, B):\n",
    "    sim = np.dot(A, B) / (np.linalg.norm(A) * np.linalg.norm(B))\n",
    "    dist = 1 - sim\n",
    "    return dist\n",
    "\n",
    "cos_dist(X_test[:, 0], X_test[:, 1])"
   ]
  },
  {
   "cell_type": "code",
   "execution_count": 369,
   "metadata": {
    "collapsed": false
   },
   "outputs": [],
   "source": [
    "def norm(v):\n",
    "    v = v.tolist()\n",
    "    return sum([i ** 2 for i in v]) ** 0.5\n",
    "\n",
    "def dot(v, w):\n",
    "    v = v.tolist()\n",
    "    w = w.tolist()\n",
    "    s = sum([v[i] * w[i] for i in range(len(v))])\n",
    "    return s\n",
    "\n",
    "def man_cos_dist(v, w):\n",
    "    sim = dot(v, w) / (norm(v) * norm(w))\n",
    "    dist = 1 - sim\n",
    "    return dist"
   ]
  },
  {
   "cell_type": "code",
   "execution_count": 404,
   "metadata": {
    "collapsed": false
   },
   "outputs": [
    {
     "data": {
      "text/plain": [
       "(0.2811961803650257, 0.28119618036502514)"
      ]
     },
     "execution_count": 404,
     "metadata": {},
     "output_type": "execute_result"
    }
   ],
   "source": [
    "X_0 = X_train[:, 6]\n",
    "X_1 = X_train[:, 15]\n",
    "man_cos_dist(X_0, X_1), cos_dist(X_0, X_1)"
   ]
  },
  {
   "cell_type": "code",
   "execution_count": 397,
   "metadata": {
    "collapsed": false
   },
   "outputs": [
    {
     "data": {
      "image/png": "[encoded data removed]",
      "text/plain": [
       "<matplotlib.figure.Figure at 0x1ef03fac1d0>"
      ]
     },
     "metadata": {},
     "output_type": "display_data"
    }
   ],
   "source": [
    "dists_match = []\n",
    "dists_other = []\n",
    "for i in range(10000):\n",
    "    dist = man_cos_dist(X_train[:, 6], X_train[:, i])\n",
    "    if labels_train[i] == 1:\n",
    "        dists_match.append(dist)\n",
    "    else:\n",
    "        dists_other.append(dist)\n",
    "    \n",
    "plt.hist([dists_match, dists_other], normed = True)\n",
    "plt.show()"
   ]
  },
  {
   "cell_type": "code",
   "execution_count": 337,
   "metadata": {
    "collapsed": false
   },
   "outputs": [
    {
     "name": "stdout",
     "output_type": "stream",
     "text": [
      "2001.3795\n"
     ]
    }
   ],
   "source": [
    "with tf.Session() as sess:\n",
    "    z = tf.norm(tf.constant(X_0, dtype = \"float32\"))\n",
    "    hello = sess.run(z)\n",
    "    \n",
    "print(hello)"
   ]
  },
  {
   "cell_type": "code",
   "execution_count": 441,
   "metadata": {
    "collapsed": true
   },
   "outputs": [],
   "source": [
    "def random_mini_batches(X, Y, minibatch_size, seed):\n",
    "    \n",
    "    np.random.seed(seed)\n",
    "    \n",
    "    _, m = X.shape\n",
    "    \n",
    "    indices = np.array([i for i in range(m)])\n",
    "    \n",
    "    np.random.shuffle(indices)\n",
    "    \n",
    "    X = X[:, indices]\n",
    "    Y = Y[:, indices]\n",
    "    \n",
    "    minibatches = []\n",
    "    i = 0\n",
    "    \n",
    "    while i < m:\n",
    "        \n",
    "        minibatches.append((X[:, i:i+minibatch_size], Y[:, i:i+minibatch_size]))\n",
    "        i += minibatch_size\n",
    "    \n",
    "    return minibatches\n",
    "\n",
    "def create_placeholders(n, k):\n",
    "    \n",
    "    X = tf.placeholder(tf.float32, shape = [n, None], name = \"X\")\n",
    "    Y = tf.placeholder(tf.float32, shape = [k, None], name = \"Y\")\n",
    "    \n",
    "    return X, Y\n",
    "\n",
    "def initialize_params(k, p, n, A_init=None, learn_A=True):\n",
    "    \n",
    "    # k classes\n",
    "    # p anchors\n",
    "    # n features\n",
    "    \n",
    "    if type(A_init) != np.ndarray:\n",
    "        A = tf.get_variable(\"A\", \n",
    "                            [k, p, n], \n",
    "                            dtype = tf.float32, \n",
    "                            initializer = tf.contrib.layers.xavier_initializer(seed = 1))\n",
    "    else:\n",
    "        if learn_A:\n",
    "            A = tf.get_variable(\"A\", \n",
    "                                dtype = tf.float32, \n",
    "                                initializer = tf.constant(A_init, dtype = tf.float32))\n",
    "        else:\n",
    "            A = tf.constant(A_init, name = \"A\", dtype = tf.float32)\n",
    "        \n",
    "    w = tf.get_variable(\"w\", [k, 1], dtype = tf.float32, initializer = tf.zeros_initializer())\n",
    "    b = tf.get_variable(\"b\", [k, 1], dtype = tf.float32, initializer = tf.zeros_initializer())\n",
    "    \n",
    "    params = {\n",
    "        \"A\": A,\n",
    "        \"w\": w,\n",
    "        \"b\": b\n",
    "    }\n",
    "                        \n",
    "    return params\n",
    "\n",
    "def forward_propagate(X, params):\n",
    "\n",
    "    # A.shape = (k, p, n)\n",
    "    # X.shape = (n, m)\n",
    "    # w.shape = (k, 1)\n",
    "    # b.shape = (k, 1)\n",
    "    \n",
    "    A = params[\"A\"]\n",
    "    w = params[\"w\"]\n",
    "    b = params[\"b\"]\n",
    "    \n",
    "    k = tf.shape(A)[0]\n",
    "    p = tf.shape(A)[1]\n",
    "    m = tf.shape(X)[1]\n",
    "    \n",
    "    norm_A = tf.reshape(tf.norm(A, axis = 2), (k, p, 1))\n",
    "    norm_X = tf.reshape(tf.norm(X, axis = 0), (1, m))\n",
    "    norm = tf.tensordot(norm_A, norm_X, [[2], [0]])\n",
    "    \n",
    "    prod = tf.tensordot(A, X, [[2], [0]])\n",
    "    \n",
    "    sim = tf.divide(prod, norm) # shape = (k, p, m)\n",
    "    dist = 1 - sim\n",
    "    \n",
    "    D = tf.reshape(tf.reduce_prod(dist, axis = 1), (k, m)) # shape = (k, m)\n",
    "    H = tf.transpose(tf.nn.softmax(tf.transpose(w * D + b))) # shape = (k, m)\n",
    "    \n",
    "    return H\n",
    "\n",
    "def get_cost(Y, H, epsilon = 0.0001):\n",
    "    \n",
    "    # Y.shape = (k, m)\n",
    "    # H.shape = (k, m)\n",
    "    \n",
    "    m = tf.cast(tf.shape(Y)[1], \"float32\")\n",
    "    L = - tf.reduce_sum(Y * tf.log(tf.maximum(H, epsilon)), axis = 0)\n",
    "    cost = 1/m * tf.reduce_sum(L)\n",
    "    \n",
    "    return cost\n",
    "\n",
    "def get_A_reg(A, q=0, epsilon = 0.0001):\n",
    "    \n",
    "    # A.shape = (k, p, n)\n",
    "    \n",
    "    if q == 0:\n",
    "        return 0\n",
    "    \n",
    "    (k, p, n) = tf.shape(A)\n",
    "    \n",
    "    norm_A = tf.reshape(tf.norm(A, axis = 2), (k, p, 1))\n",
    "    norm_A_T = tf.transpose(norm_A, perm = [0, 2, 1]) # shape = (k, 1, p)\n",
    "    norm = tf.tensordot(norm_A, norm_A_T, [[1, 2], [2, 1]]) # shape = (k, p, p)\n",
    "    \n",
    "    prod = tf.tensordot(A, tf.transpose(A, perm = [0, 2, 1]), [[1, 2], [2, 1]])\n",
    "    \n",
    "    sim = tf.divide(prod, norm)\n",
    "    dist = tf.maximum(1 - sim, epsilon)\n",
    "    \n",
    "    energy = 1/2 * tf.reduce_sum(q**2 / dist)\n",
    "    \n",
    "    return energy\n",
    "\n",
    "# ##### -------------------------------------------------------- #####\n",
    "\n",
    "def model(X_train, \n",
    "          Y_train, \n",
    "          X_test, \n",
    "          Y_test, \n",
    "          A_init = None,\n",
    "          learn_A = True,\n",
    "          p = 4,\n",
    "          q = 0,\n",
    "          learning_rate = 0.0001,\n",
    "          num_epochs = 1500, \n",
    "          minibatch_size = 32, \n",
    "          print_cost = True):\n",
    "    \n",
    "    # X_train.shape = (n, m)\n",
    "    # Y_train.shape = (p, m)\n",
    "    \n",
    "    tf.reset_default_graph()\n",
    "    \n",
    "    tf.set_random_seed(1)\n",
    "    seed = 2\n",
    "    \n",
    "    (n, m) = X_train.shape\n",
    "    k = Y_train.shape[0]\n",
    "    J_train = []\n",
    "    J_valid = []\n",
    "    \n",
    "    X, Y = create_placeholders(n, k)\n",
    "    params = initialize_params(k, p, n, A_init, learn_A)\n",
    "    H = forward_propagate(X, params)\n",
    "    \n",
    "    if learn_A:\n",
    "        J = get_cost(Y, H) + get_A_reg(params[\"A\"], q = q)\n",
    "    else:\n",
    "        J = get_cost(Y, H)\n",
    "    \n",
    "    optimizer = tf.train.AdamOptimizer(learning_rate = learning_rate).minimize(J)\n",
    "\n",
    "    init = tf.global_variables_initializer()\n",
    "    \n",
    "    with tf.Session() as sess:\n",
    "        \n",
    "        sess.run(init)\n",
    "        \n",
    "        tic = time()\n",
    "        \n",
    "        for epoch in range(num_epochs):\n",
    "\n",
    "            epoch_cost = 0\n",
    "            num_minibatches = int(m / minibatch_size)\n",
    "            seed += 1\n",
    "            minibatches = random_mini_batches(X_train, Y_train, minibatch_size, seed)\n",
    "            \n",
    "            for minibatch in minibatches:\n",
    "\n",
    "                (minibatch_X, minibatch_Y) = minibatch\n",
    "                _ , minibatch_cost = sess.run([optimizer, J], feed_dict={X: minibatch_X, Y: minibatch_Y})\n",
    "                epoch_cost += minibatch_cost / num_minibatches\n",
    "            \n",
    "            if print_cost == True and epoch % 50 == 0:\n",
    "                dt = time() - tic\n",
    "                print (\"Cost after epoch %i: %f (time elapsed = %f s)\" % (epoch, epoch_cost, dt))\n",
    "                \n",
    "            if epoch % 5 == 0:\n",
    "                J_train.append(epoch_cost)\n",
    "                J_valid.append(sess.run(J, feed_dict = {X: X_test, Y: Y_test}))\n",
    "        \n",
    "        font = {\"family\": \"Century Gothic\", \"weight\": \"normal\", \"size\" : 14}\n",
    "        plt.rc(\"font\", **font)\n",
    "        fig = plt.figure(figsize = (10, 7))\n",
    "        ax = fig.add_subplot(1, 1, 1)\n",
    "        ax.plot(np.squeeze(J_train), label = \"J_train\")\n",
    "        ax.plot(np.squeeze(J_valid), label = \"J_valid\")\n",
    "        ax.legend()\n",
    "        ax.set_xlim([0, len(J_train)])\n",
    "        ax.set_ylabel(\"Cost\", fontdict = {\"fontsize\": 16, \"weight\": \"bold\"})\n",
    "        ax.set_xlabel(\"Iteration/5\", fontdict = {\"fontsize\": 16, \"weight\": \"bold\"})\n",
    "        ax.set_title(\"%d Anchors: Charge = %g, Learning Rate = %g\" % (p, q, learning_rate),\n",
    "                     fontdict = {\"fontsize\": 24, \"weight\": \"bold\"})\n",
    "        plt.show()\n",
    "        \n",
    "        params = sess.run(params)\n",
    "        H_train = sess.run(H, feed_dict = {X: X_train})\n",
    "        H_test = sess.run(H, feed_dict = {X: X_test})\n",
    "        \n",
    "        print(\"Training complete.\")\n",
    "        \n",
    "        return (params, H_train, H_test, J_train, J_valid)"
   ]
  },
  {
   "cell_type": "code",
   "execution_count": 442,
   "metadata": {
    "collapsed": false,
    "scrolled": false
   },
   "outputs": [
    {
     "name": "stdout",
     "output_type": "stream",
     "text": [
      "Cost after epoch 0: 2.155657 (time elapsed = 3.701241 s)\n",
      "Cost after epoch 50: 0.461220 (time elapsed = 190.983935 s)\n",
      "Cost after epoch 100: 0.376164 (time elapsed = 367.928305 s)\n"
     ]
    },
    {
     "data": {
      "image/png": "[encoded data removed]",
      "text/plain": [
       "<matplotlib.figure.Figure at 0x1ef042d2438>"
      ]
     },
     "metadata": {},
     "output_type": "display_data"
    },
    {
     "name": "stdout",
     "output_type": "stream",
     "text": [
      "Training complete.\n"
     ]
    }
   ],
   "source": [
    "A_initial = np.array([[X_train[:, examples[i]]] for i in range(10)])\n",
    "\n",
    "result = model(X_train, \n",
    "               Y_train, \n",
    "               X_test, \n",
    "               Y_test, \n",
    "               A_init = A_initial,\n",
    "               learn_A = True,\n",
    "               p = 3,\n",
    "               q = 0,\n",
    "               learning_rate = 0.001,\n",
    "               num_epochs = 101, \n",
    "               minibatch_size = 32, \n",
    "               print_cost = True)"
   ]
  },
  {
   "cell_type": "code",
   "execution_count": 443,
   "metadata": {
    "collapsed": false
   },
   "outputs": [
    {
     "name": "stdout",
     "output_type": "stream",
     "text": [
      "Train Accuracy: 0.904117\n",
      " Test Accuracy: 0.908500\n"
     ]
    }
   ],
   "source": [
    "params, H_train, H_test, J_train, J_valid = result\n",
    "acc_train = sum(np.argmax(H_train, axis = 0) == labels_train)/len(labels_train)\n",
    "acc_test = sum(np.argmax(H_test, axis = 0) == labels_test)/len(labels_test)\n",
    "\n",
    "print(\"Train Accuracy: %f\" % acc_train)\n",
    "print(\" Test Accuracy: %f\" % acc_test)"
   ]
  },
  {
   "cell_type": "code",
   "execution_count": 425,
   "metadata": {
    "collapsed": false
   },
   "outputs": [
    {
     "data": {
      "text/plain": [
       "array([0.20322798, 0.0027556 , 0.1740845 , 0.01804052, 0.36773327,\n",
       "       0.03797604, 0.0495455 , 0.09048437, 0.02227902, 0.03387307],\n",
       "      dtype=float32)"
      ]
     },
     "execution_count": 425,
     "metadata": {},
     "output_type": "execute_result"
    }
   ],
   "source": [
    "H_train[:, 3000]"
   ]
  },
  {
   "cell_type": "code",
   "execution_count": 467,
   "metadata": {
    "collapsed": false
   },
   "outputs": [
    {
     "data": {
      "image/png": "[encoded data removed]",
      "text/plain": [
       "<matplotlib.figure.Figure at 0x1ef06ccfe48>"
      ]
     },
     "metadata": {},
     "output_type": "display_data"
    }
   ],
   "source": [
    "A_params = np.reshape(params[\"A\"], (10, 28, 28))\n",
    "plt.imshow(A_params[0])\n",
    "plt.show()"
   ]
  },
  {
   "cell_type": "code",
   "execution_count": 419,
   "metadata": {
    "collapsed": false
   },
   "outputs": [
    {
     "data": {
      "text/plain": [
       "array([5, 0, 4, ..., 5, 6, 8], dtype=uint8)"
      ]
     },
     "execution_count": 419,
     "metadata": {},
     "output_type": "execute_result"
    }
   ],
   "source": [
    "labels_train"
   ]
  },
  {
   "cell_type": "code",
   "execution_count": 413,
   "metadata": {
    "collapsed": false
   },
   "outputs": [
    {
     "data": {
      "text/plain": [
       "(10, 60000)"
      ]
     },
     "execution_count": 413,
     "metadata": {},
     "output_type": "execute_result"
    }
   ],
   "source": [
    "H_train.shape"
   ]
  },
  {
   "cell_type": "code",
   "execution_count": 277,
   "metadata": {
    "collapsed": false
   },
   "outputs": [
    {
     "data": {
      "text/plain": [
       "array([0., 0., 1., 0., 0., 0., 0., 0., 0., 0.])"
      ]
     },
     "execution_count": 277,
     "metadata": {},
     "output_type": "execute_result"
    }
   ],
   "source": [
    "Y_test[:, 1]"
   ]
  },
  {
   "cell_type": "code",
   "execution_count": 243,
   "metadata": {
    "collapsed": false
   },
   "outputs": [
    {
     "name": "stdout",
     "output_type": "stream",
     "text": [
      "[[0.26894142 0.73105858]]\n"
     ]
    }
   ],
   "source": [
    "with tf.Session() as sess:\n",
    "    logits = tf.constant(np.array([[1., 2.]]))\n",
    "    hello = sess.run(tf.nn.softmax(logits))\n",
    "    \n",
    "print(hello)"
   ]
  }
 ],
 "metadata": {
  "kernelspec": {
   "display_name": "Python 3",
   "language": "python",
   "name": "python3"
  }
 },
 "nbformat": 4,
 "nbformat_minor": 2
}
